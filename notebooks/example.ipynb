{
 "cells": [
  {
   "cell_type": "markdown",
   "id": "12d5a47f",
   "metadata": {},
   "source": [
    "## Import libraries"
   ]
  },
  {
   "cell_type": "code",
   "execution_count": null,
   "id": "475f5a3f",
   "metadata": {},
   "outputs": [],
   "source": [
    "import pandas as pd\n",
    "\n",
    "import sys\n",
    "sys.path.append(\"..\")\n",
    "from ame_analytics import postgresql \n",
    "\n",
    "import matplotlib.pyplot as plt"
   ]
  },
  {
   "cell_type": "markdown",
   "id": "6847bbaa",
   "metadata": {},
   "source": [
    "### Set variables"
   ]
  },
  {
   "cell_type": "code",
   "execution_count": null,
   "id": "3d3ff5d0",
   "metadata": {},
   "outputs": [],
   "source": [
    "TENANT = 'pippo'\n",
    "PLANT_ID = 123"
   ]
  },
  {
   "cell_type": "markdown",
   "id": "51b9fe84",
   "metadata": {},
   "source": [
    "### Data extraction"
   ]
  },
  {
   "cell_type": "code",
   "execution_count": null,
   "id": "cda4788c",
   "metadata": {},
   "outputs": [],
   "source": [
    "query = \"\"\" \n",
    "SELECT * FROM {tenant}.interactions\n",
    "WHERE plant_id = {plant_id}\n",
    "ORDER BY id LIMIT 10\n",
    "\"\"\""
   ]
  },
  {
   "cell_type": "code",
   "execution_count": null,
   "id": "2492e338",
   "metadata": {},
   "outputs": [],
   "source": [
    "conn = postgresql.connect_to_prod_db()\n",
    "# conn = postgresql.connect_to_qa_db()\n",
    "\n",
    "data = pd.read_sql(\n",
    "    query.format(\n",
    "        tenant=TENANT,\n",
    "        plant_id=PLANT_ID,\n",
    "    ),\n",
    "    conn,\n",
    ")\n",
    "\n",
    "conn.close()"
   ]
  },
  {
   "cell_type": "code",
   "execution_count": null,
   "id": "103c3925",
   "metadata": {},
   "outputs": [],
   "source": [
    "data.head()"
   ]
  }
 ],
 "metadata": {
  "kernelspec": {
   "display_name": ".venv",
   "language": "python",
   "name": "python3"
  },
  "language_info": {
   "codemirror_mode": {
    "name": "ipython",
    "version": 3
   },
   "file_extension": ".py",
   "mimetype": "text/x-python",
   "name": "python",
   "nbconvert_exporter": "python",
   "pygments_lexer": "ipython3",
   "version": "3.11.9"
  }
 },
 "nbformat": 4,
 "nbformat_minor": 5
}
